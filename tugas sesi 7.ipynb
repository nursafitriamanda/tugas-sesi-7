{
 "cells": [
  {
   "cell_type": "markdown",
   "id": "301b7c5b",
   "metadata": {},
   "source": [
    "<hr>\n",
    "<h1>Tugas Sesi 7</h1>\n"
   ]
  },
  {
   "cell_type": "code",
   "execution_count": null,
   "id": "136a6938",
   "metadata": {},
   "outputs": [],
   "source": [
    "1. Buatlah program untuk membalik sebuah kalimat, misal:\n",
    "input : “LUPA-LUPA INGAT”\n",
    "output : “TAGNI APUL-APUL”"
   ]
  },
  {
   "cell_type": "code",
   "execution_count": 1,
   "id": "43b37a80",
   "metadata": {},
   "outputs": [
    {
     "name": "stdout",
     "output_type": "stream",
     "text": [
      "masukkan teks :lupa lupa ingat\n",
      "Hasil :  tagni apul apul\n"
     ]
    }
   ],
   "source": [
    "def pembalik(teks):\n",
    "    list = [] \n",
    "    hasil = ''\n",
    "    for i in range (len (teks)) :\n",
    "        list.append(teks[i]) \n",
    "    while list != [] :\n",
    "        hasil += list.pop() \n",
    "    return hasil \n",
    "a = input(\"masukkan teks :\") \n",
    "print(\"Hasil : \", pembalik (a))"
   ]
  },
  {
   "cell_type": "code",
   "execution_count": null,
   "id": "8b3716c2",
   "metadata": {},
   "outputs": [],
   "source": [
    "2. Buatlah program untuk menghitung jumlah masing-masing huruf vokal, dengan output seperti berikut ini:\n",
    "\n",
    "kalimat : “Universitas Nusa Putera”\n",
    "\n",
    "output :\n",
    "\n",
    "Jumlah huruf A = 3\n",
    "Jumlah huruf I = 2\n",
    "Jumlah huruf U = 3\n",
    "Jumlah huruf E = 2\n",
    "Jumlah huruf O = 0\n",
    "Total jumlah huruf vokal = 10"
   ]
  },
  {
   "cell_type": "code",
   "execution_count": 2,
   "id": "d6cf8dbb",
   "metadata": {},
   "outputs": [
    {
     "name": "stdout",
     "output_type": "stream",
     "text": [
      "Tuliskan teks: universitas nusa putera\n",
      "  A -> 3\n",
      "  I -> 2\n",
      "  U -> 3\n",
      "  E -> 2\n",
      "  O -> 0\n",
      "Total huruf vokal: 10\n"
     ]
    }
   ],
   "source": [
    "teks = input('Tuliskan teks: ').upper()\n",
    "dictionary_huruf_vokal = {\n",
    "  'A': 0,\n",
    "  'I': 0,\n",
    "  'U': 0,\n",
    "  'E': 0,\n",
    "  'O': 0\n",
    "}\n",
    "\n",
    "for huruf_vokal in dictionary_huruf_vokal.keys():\n",
    "  dictionary_huruf_vokal[huruf_vokal] = teks.count(huruf_vokal)\n",
    "\n",
    "total_huruf_vokal = sum(dictionary_huruf_vokal.values())\n",
    "\n",
    "print(f\"\"\"\\\n",
    "  A -> {dictionary_huruf_vokal['A']}\n",
    "  I -> {dictionary_huruf_vokal['I']}\n",
    "  U -> {dictionary_huruf_vokal['U']}\n",
    "  E -> {dictionary_huruf_vokal['E']}\n",
    "  O -> {dictionary_huruf_vokal['O']}\\\n",
    "\"\"\")\n",
    "print(f'Total huruf vokal: {total_huruf_vokal}')"
   ]
  }
 ],
 "metadata": {
  "kernelspec": {
   "display_name": "Python 3 (ipykernel)",
   "language": "python",
   "name": "python3"
  },
  "language_info": {
   "codemirror_mode": {
    "name": "ipython",
    "version": 3
   },
   "file_extension": ".py",
   "mimetype": "text/x-python",
   "name": "python",
   "nbconvert_exporter": "python",
   "pygments_lexer": "ipython3",
   "version": "3.9.12"
  }
 },
 "nbformat": 4,
 "nbformat_minor": 5
}
